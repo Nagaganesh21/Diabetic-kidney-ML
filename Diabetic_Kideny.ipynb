{
  "nbformat": 4,
  "nbformat_minor": 0,
  "metadata": {
    "colab": {
      "provenance": []
    },
    "kernelspec": {
      "name": "python3",
      "display_name": "Python 3"
    },
    "language_info": {
      "name": "python"
    }
  },
  "cells": [
    {
      "cell_type": "markdown",
      "source": [
        "# Import liberaries "
      ],
      "metadata": {
        "id": "V9QgUg9QbAcc"
      }
    },
    {
      "cell_type": "code",
      "execution_count": 1,
      "metadata": {
        "id": "2wjhW7kmaq1t"
      },
      "outputs": [],
      "source": [
        "#code here \n",
        "\n",
        "import pandas as pd \n",
        "import numpy as np\n",
        "import matplotlib.pyplot as plt \n",
        "import seaborn as sns \n",
        "%matplotlib inline\n",
        "#import liberaries\n"
      ]
    },
    {
      "cell_type": "markdown",
      "source": [
        "# Read the data "
      ],
      "metadata": {
        "id": "iJSer1xwbGdd"
      }
    },
    {
      "cell_type": "code",
      "source": [
        "#code here\n",
        "df=pd.read_csv(\"/content/diabetic_kidney_disease.csv\")\n",
        "df.head()"
      ],
      "metadata": {
        "id": "eW5NVwPhbFYD",
        "colab": {
          "base_uri": "https://localhost:8080/",
          "height": 206
        },
        "outputId": "3414cf57-6dc5-4aca-bfaf-676528502100"
      },
      "execution_count": 85,
      "outputs": [
        {
          "output_type": "execute_result",
          "data": {
            "text/plain": [
              "   FBG (mg/dL)  HbA1C (%)  Total cholesterol (mg/dL)  UACR (mg/g creatinine)\n",
              "0          140        8.7                        144                    16.0\n",
              "1          135        7.5                        170                     8.0\n",
              "2          140        8.0                        180                    23.0\n",
              "3          190       14.0                        122                    38.0\n",
              "4          250       13.5                        167                    21.0"
            ],
            "text/html": [
              "\n",
              "  <div id=\"df-2e497fd6-bd2e-4713-ae1f-12f85ccbfb3e\">\n",
              "    <div class=\"colab-df-container\">\n",
              "      <div>\n",
              "<style scoped>\n",
              "    .dataframe tbody tr th:only-of-type {\n",
              "        vertical-align: middle;\n",
              "    }\n",
              "\n",
              "    .dataframe tbody tr th {\n",
              "        vertical-align: top;\n",
              "    }\n",
              "\n",
              "    .dataframe thead th {\n",
              "        text-align: right;\n",
              "    }\n",
              "</style>\n",
              "<table border=\"1\" class=\"dataframe\">\n",
              "  <thead>\n",
              "    <tr style=\"text-align: right;\">\n",
              "      <th></th>\n",
              "      <th>FBG (mg/dL)</th>\n",
              "      <th>HbA1C (%)</th>\n",
              "      <th>Total cholesterol (mg/dL)</th>\n",
              "      <th>UACR (mg/g creatinine)</th>\n",
              "    </tr>\n",
              "  </thead>\n",
              "  <tbody>\n",
              "    <tr>\n",
              "      <th>0</th>\n",
              "      <td>140</td>\n",
              "      <td>8.7</td>\n",
              "      <td>144</td>\n",
              "      <td>16.0</td>\n",
              "    </tr>\n",
              "    <tr>\n",
              "      <th>1</th>\n",
              "      <td>135</td>\n",
              "      <td>7.5</td>\n",
              "      <td>170</td>\n",
              "      <td>8.0</td>\n",
              "    </tr>\n",
              "    <tr>\n",
              "      <th>2</th>\n",
              "      <td>140</td>\n",
              "      <td>8.0</td>\n",
              "      <td>180</td>\n",
              "      <td>23.0</td>\n",
              "    </tr>\n",
              "    <tr>\n",
              "      <th>3</th>\n",
              "      <td>190</td>\n",
              "      <td>14.0</td>\n",
              "      <td>122</td>\n",
              "      <td>38.0</td>\n",
              "    </tr>\n",
              "    <tr>\n",
              "      <th>4</th>\n",
              "      <td>250</td>\n",
              "      <td>13.5</td>\n",
              "      <td>167</td>\n",
              "      <td>21.0</td>\n",
              "    </tr>\n",
              "  </tbody>\n",
              "</table>\n",
              "</div>\n",
              "      <button class=\"colab-df-convert\" onclick=\"convertToInteractive('df-2e497fd6-bd2e-4713-ae1f-12f85ccbfb3e')\"\n",
              "              title=\"Convert this dataframe to an interactive table.\"\n",
              "              style=\"display:none;\">\n",
              "        \n",
              "  <svg xmlns=\"http://www.w3.org/2000/svg\" height=\"24px\"viewBox=\"0 0 24 24\"\n",
              "       width=\"24px\">\n",
              "    <path d=\"M0 0h24v24H0V0z\" fill=\"none\"/>\n",
              "    <path d=\"M18.56 5.44l.94 2.06.94-2.06 2.06-.94-2.06-.94-.94-2.06-.94 2.06-2.06.94zm-11 1L8.5 8.5l.94-2.06 2.06-.94-2.06-.94L8.5 2.5l-.94 2.06-2.06.94zm10 10l.94 2.06.94-2.06 2.06-.94-2.06-.94-.94-2.06-.94 2.06-2.06.94z\"/><path d=\"M17.41 7.96l-1.37-1.37c-.4-.4-.92-.59-1.43-.59-.52 0-1.04.2-1.43.59L10.3 9.45l-7.72 7.72c-.78.78-.78 2.05 0 2.83L4 21.41c.39.39.9.59 1.41.59.51 0 1.02-.2 1.41-.59l7.78-7.78 2.81-2.81c.8-.78.8-2.07 0-2.86zM5.41 20L4 18.59l7.72-7.72 1.47 1.35L5.41 20z\"/>\n",
              "  </svg>\n",
              "      </button>\n",
              "      \n",
              "  <style>\n",
              "    .colab-df-container {\n",
              "      display:flex;\n",
              "      flex-wrap:wrap;\n",
              "      gap: 12px;\n",
              "    }\n",
              "\n",
              "    .colab-df-convert {\n",
              "      background-color: #E8F0FE;\n",
              "      border: none;\n",
              "      border-radius: 50%;\n",
              "      cursor: pointer;\n",
              "      display: none;\n",
              "      fill: #1967D2;\n",
              "      height: 32px;\n",
              "      padding: 0 0 0 0;\n",
              "      width: 32px;\n",
              "    }\n",
              "\n",
              "    .colab-df-convert:hover {\n",
              "      background-color: #E2EBFA;\n",
              "      box-shadow: 0px 1px 2px rgba(60, 64, 67, 0.3), 0px 1px 3px 1px rgba(60, 64, 67, 0.15);\n",
              "      fill: #174EA6;\n",
              "    }\n",
              "\n",
              "    [theme=dark] .colab-df-convert {\n",
              "      background-color: #3B4455;\n",
              "      fill: #D2E3FC;\n",
              "    }\n",
              "\n",
              "    [theme=dark] .colab-df-convert:hover {\n",
              "      background-color: #434B5C;\n",
              "      box-shadow: 0px 1px 3px 1px rgba(0, 0, 0, 0.15);\n",
              "      filter: drop-shadow(0px 1px 2px rgba(0, 0, 0, 0.3));\n",
              "      fill: #FFFFFF;\n",
              "    }\n",
              "  </style>\n",
              "\n",
              "      <script>\n",
              "        const buttonEl =\n",
              "          document.querySelector('#df-2e497fd6-bd2e-4713-ae1f-12f85ccbfb3e button.colab-df-convert');\n",
              "        buttonEl.style.display =\n",
              "          google.colab.kernel.accessAllowed ? 'block' : 'none';\n",
              "\n",
              "        async function convertToInteractive(key) {\n",
              "          const element = document.querySelector('#df-2e497fd6-bd2e-4713-ae1f-12f85ccbfb3e');\n",
              "          const dataTable =\n",
              "            await google.colab.kernel.invokeFunction('convertToInteractive',\n",
              "                                                     [key], {});\n",
              "          if (!dataTable) return;\n",
              "\n",
              "          const docLinkHtml = 'Like what you see? Visit the ' +\n",
              "            '<a target=\"_blank\" href=https://colab.research.google.com/notebooks/data_table.ipynb>data table notebook</a>'\n",
              "            + ' to learn more about interactive tables.';\n",
              "          element.innerHTML = '';\n",
              "          dataTable['output_type'] = 'display_data';\n",
              "          await google.colab.output.renderOutput(dataTable, element);\n",
              "          const docLink = document.createElement('div');\n",
              "          docLink.innerHTML = docLinkHtml;\n",
              "          element.appendChild(docLink);\n",
              "        }\n",
              "      </script>\n",
              "    </div>\n",
              "  </div>\n",
              "  "
            ]
          },
          "metadata": {},
          "execution_count": 85
        }
      ]
    },
    {
      "cell_type": "markdown",
      "source": [
        "# Data preprocessing"
      ],
      "metadata": {
        "id": "bnP4EbRqbMZc"
      }
    },
    {
      "cell_type": "markdown",
      "source": [
        "### Check for Nulls"
      ],
      "metadata": {
        "id": "0zECHDGp5v55"
      }
    },
    {
      "cell_type": "code",
      "source": [
        "df.isna().sum()"
      ],
      "metadata": {
        "id": "sicfQjGF542C",
        "outputId": "d2644ee1-6e2a-472b-cb4c-943055c1ecf5",
        "colab": {
          "base_uri": "https://localhost:8080/"
        }
      },
      "execution_count": 151,
      "outputs": [
        {
          "output_type": "execute_result",
          "data": {
            "text/plain": [
              "FBG (mg/dL)                  0\n",
              "HbA1C (%)                    0\n",
              "Total cholesterol (mg/dL)    0\n",
              "UACR (mg/g creatinine)       0\n",
              "dtype: int64"
            ]
          },
          "metadata": {},
          "execution_count": 151
        }
      ]
    },
    {
      "cell_type": "markdown",
      "source": [
        "### Check For Outliers"
      ],
      "metadata": {
        "id": "SovsPXPo6EF1"
      }
    },
    {
      "cell_type": "code",
      "source": [
        "#code \n",
        "sns.boxplot(data=df['FBG (mg/dL)'],palette='rainbow',orient='h')\n"
      ],
      "metadata": {
        "id": "zbvd4FAqbZyH",
        "outputId": "3655d87a-4ec7-49d0-c7bf-0362f5f30c7d",
        "colab": {
          "base_uri": "https://localhost:8080/",
          "height": 448
        }
      },
      "execution_count": 6,
      "outputs": [
        {
          "output_type": "execute_result",
          "data": {
            "text/plain": [
              "<Axes: >"
            ]
          },
          "metadata": {},
          "execution_count": 6
        },
        {
          "output_type": "display_data",
          "data": {
            "text/plain": [
              "<Figure size 640x480 with 1 Axes>"
            ],
            "image/png": "[encoded data removed]"
          },
          "metadata": {}
        }
      ]
    },
    {
      "cell_type": "code",
      "source": [
        "sns.boxplot(data=df['HbA1C (%)'],palette='rainbow',orient='h')\n"
      ],
      "metadata": {
        "id": "26hzWAz9t1SG",
        "outputId": "aac8114b-926f-43f1-d408-35850d606cf6",
        "colab": {
          "base_uri": "https://localhost:8080/",
          "height": 448
        }
      },
      "execution_count": 7,
      "outputs": [
        {
          "output_type": "execute_result",
          "data": {
            "text/plain": [
              "<Axes: >"
            ]
          },
          "metadata": {},
          "execution_count": 7
        },
        {
          "output_type": "display_data",
          "data": {
            "text/plain": [
              "<Figure size 640x480 with 1 Axes>"
            ],
            "image/png": "[encoded data removed]"
          },
          "metadata": {}
        }
      ]
    },
    {
      "cell_type": "code",
      "source": [
        "\n",
        "sns.boxplot(data=df['Total cholesterol (mg/dL)'],palette='rainbow',orient='h')\n"
      ],
      "metadata": {
        "id": "y4Kq0Pn0t8d2",
        "outputId": "d0c3ea29-56f7-449a-cf98-60a1e650f7df",
        "colab": {
          "base_uri": "https://localhost:8080/",
          "height": 448
        }
      },
      "execution_count": 8,
      "outputs": [
        {
          "output_type": "execute_result",
          "data": {
            "text/plain": [
              "<Axes: >"
            ]
          },
          "metadata": {},
          "execution_count": 8
        },
        {
          "output_type": "display_data",
          "data": {
            "text/plain": [
              "<Figure size 640x480 with 1 Axes>"
            ],
            "image/png": "[encoded data removed]"
          },
          "metadata": {}
        }
      ]
    },
    {
      "cell_type": "code",
      "source": [
        "sns.boxplot(data=df['UACR (mg/g creatinine)'],palette='rainbow',orient='h')"
      ],
      "metadata": {
        "id": "DSJppt1EuDfJ",
        "outputId": "4dff3625-8dcd-4385-8443-f0e65eb54962",
        "colab": {
          "base_uri": "https://localhost:8080/",
          "height": 448
        }
      },
      "execution_count": 79,
      "outputs": [
        {
          "output_type": "execute_result",
          "data": {
            "text/plain": [
              "<Axes: >"
            ]
          },
          "metadata": {},
          "execution_count": 79
        },
        {
          "output_type": "display_data",
          "data": {
            "text/plain": [
              "<Figure size 640x480 with 1 Axes>"
            ],
            "image/png": "[encoded data removed]"
          },
          "metadata": {}
        }
      ]
    },
    {
      "cell_type": "markdown",
      "source": [
        "### Overview on the data"
      ],
      "metadata": {
        "id": "n12pSAe66Ugm"
      }
    },
    {
      "cell_type": "code",
      "source": [
        "df.shape"
      ],
      "metadata": {
        "id": "y9fq1EXUveOJ",
        "outputId": "91db795d-efc5-41a9-edff-b3c6c9d02f1b",
        "colab": {
          "base_uri": "https://localhost:8080/"
        }
      },
      "execution_count": 10,
      "outputs": [
        {
          "output_type": "execute_result",
          "data": {
            "text/plain": [
              "(110, 4)"
            ]
          },
          "metadata": {},
          "execution_count": 10
        }
      ]
    },
    {
      "cell_type": "code",
      "source": [
        "corr=df['UACR (mg/g creatinine)'].corr(df['Total cholesterol (mg/dL)'])\n",
        "print(corr)"
      ],
      "metadata": {
        "id": "oPd43v7JxL3N",
        "outputId": "c5963dfa-5c83-44d4-d122-f732d8065185",
        "colab": {
          "base_uri": "https://localhost:8080/"
        }
      },
      "execution_count": 33,
      "outputs": [
        {
          "output_type": "stream",
          "name": "stdout",
          "text": [
            "0.11706511166160646\n"
          ]
        }
      ]
    },
    {
      "cell_type": "code",
      "source": [
        "corr=df['UACR (mg/g creatinine)'].corr(df['HbA1C (%)'])\n",
        "print(corr)"
      ],
      "metadata": {
        "id": "bxijM4fPxdkD",
        "outputId": "b5d556e2-9794-4e25-fb7a-f87952058e0b",
        "colab": {
          "base_uri": "https://localhost:8080/"
        }
      },
      "execution_count": 35,
      "outputs": [
        {
          "output_type": "stream",
          "name": "stdout",
          "text": [
            "0.5195237512730286\n"
          ]
        }
      ]
    },
    {
      "cell_type": "code",
      "source": [
        "corr=df['UACR (mg/g creatinine)'].corr(df['FBG (mg/dL)'])\n",
        "print(corr)"
      ],
      "metadata": {
        "id": "PSW4nLrcxkxN",
        "outputId": "6a61cebf-7655-4fdc-9a85-c64e985e9bb6",
        "colab": {
          "base_uri": "https://localhost:8080/"
        }
      },
      "execution_count": 36,
      "outputs": [
        {
          "output_type": "stream",
          "name": "stdout",
          "text": [
            "0.7506696604473574\n"
          ]
        }
      ]
    },
    {
      "cell_type": "markdown",
      "source": [
        "### Standralization"
      ],
      "metadata": {
        "id": "YKrUdD2E6b0U"
      }
    },
    {
      "cell_type": "code",
      "source": [
        "df = (df-df.mean())/df.std()"
      ],
      "metadata": {
        "id": "qcsPG13y6fHz"
      },
      "execution_count": 152,
      "outputs": []
    },
    {
      "cell_type": "markdown",
      "source": [
        "### Making the linear regression model using sk learn library"
      ],
      "metadata": {
        "id": "b1QvQLgJbcYk"
      }
    },
    {
      "cell_type": "code",
      "source": [
        "#code here \n",
        "x =df['FBG (mg/dL)'].values.reshape(-1, 1)\n",
        "#x = df.drop(columns=['UACR (mg/g creatinine)', 'Total cholesterol (mg/dL)'])\n",
        "y=df['UACR (mg/g creatinine)']"
      ],
      "metadata": {
        "id": "yoZwNg_-bfvh"
      },
      "execution_count": 132,
      "outputs": []
    },
    {
      "cell_type": "code",
      "source": [
        "from sklearn.model_selection import train_test_split\n",
        "x_train, x_test , y_train , y_test = train_test_split(x,y ,test_size= 0.18,random_state=44)"
      ],
      "metadata": {
        "id": "UDgiOqPWv_l_"
      },
      "execution_count": 148,
      "outputs": []
    },
    {
      "cell_type": "code",
      "source": [
        "from sklearn.linear_model import LinearRegression\n",
        "model = LinearRegression()\n",
        "model.fit(x_train,y_train)\n",
        "predict = model.predict(x_test)"
      ],
      "metadata": {
        "id": "ByKFTUqewCr_"
      },
      "execution_count": 149,
      "outputs": []
    },
    {
      "cell_type": "markdown",
      "source": [
        "### Calaculating the accuracy "
      ],
      "metadata": {
        "id": "KUbztr_GbkIw"
      }
    },
    {
      "cell_type": "code",
      "source": [
        "#code here \n",
        "model.score(x_test,y_test)*100"
      ],
      "metadata": {
        "id": "nUZteesqbqBJ",
        "outputId": "93f43a42-3c78-46de-9a07-886733703b28",
        "colab": {
          "base_uri": "https://localhost:8080/"
        }
      },
      "execution_count": 150,
      "outputs": [
        {
          "output_type": "execute_result",
          "data": {
            "text/plain": [
              "79.08876985277874"
            ]
          },
          "metadata": {},
          "execution_count": 150
        }
      ]
    }
  ]
}